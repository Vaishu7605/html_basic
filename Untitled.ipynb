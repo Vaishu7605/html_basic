{
 "cells": [
  {
   "cell_type": "code",
   "execution_count": 18,
   "id": "5c50a6d1-9540-4f0e-91be-1bf17469ba90",
   "metadata": {},
   "outputs": [
    {
     "name": "stdout",
     "output_type": "stream",
     "text": [
      "*******\n",
      "   *   \n",
      "   *   \n",
      "   *   \n",
      "   *   \n",
      "   *   \n",
      "*******\n"
     ]
    }
   ],
   "source": [
    "rows = 7\n",
    "for i in range(rows):\n",
    "    if i == 0 or i == rows - 1:\n",
    "        print('*' * 7)\n",
    "    else:\n",
    "        print('   *   ')"
   ]
  },
  {
   "cell_type": "code",
   "execution_count": 15,
   "id": "4ec3cd48-8ddb-4d79-b005-c1198d78f628",
   "metadata": {},
   "outputs": [
    {
     "name": "stdout",
     "output_type": "stream",
     "text": [
      "*******\n",
      "*     *\n",
      "*     *\n",
      "*     *\n",
      "*     *\n",
      "*     *\n",
      "*******\n"
     ]
    }
   ],
   "source": [
    "rows = 7\n",
    "for i in range(rows):\n",
    "    if i == 0 or i == rows - 1:\n",
    "        print('*' * 7)\n",
    "    else:\n",
    "        print('*     *')"
   ]
  },
  {
   "cell_type": "code",
   "execution_count": 16,
   "id": "6860b477-bb58-46f6-8eb4-0aea50b87bb1",
   "metadata": {},
   "outputs": [
    {
     "name": "stdout",
     "output_type": "stream",
     "text": [
      "    *   \n",
      "   * *  \n",
      "  * * * \n",
      " * * * * \n",
      "* * * * *\n"
     ]
    }
   ],
   "source": [
    "print('    *   ')\n",
    "print('   * *  ')\n",
    "print('  * * * ')\n",
    "print(' * * * * ')\n",
    "print('* * * * *')"
   ]
  },
  {
   "cell_type": "code",
   "execution_count": null,
   "id": "88befb30-a75d-4419-a628-70a282ce1494",
   "metadata": {},
   "outputs": [],
   "source": []
  }
 ],
 "metadata": {
  "kernelspec": {
   "display_name": "Python 3 (ipykernel)",
   "language": "python",
   "name": "python3"
  },
  "language_info": {
   "codemirror_mode": {
    "name": "ipython",
    "version": 3
   },
   "file_extension": ".py",
   "mimetype": "text/x-python",
   "name": "python",
   "nbconvert_exporter": "python",
   "pygments_lexer": "ipython3",
   "version": "3.11.0"
  }
 },
 "nbformat": 4,
 "nbformat_minor": 5
}
